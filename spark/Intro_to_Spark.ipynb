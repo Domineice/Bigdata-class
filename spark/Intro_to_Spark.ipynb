{
  "cells": [
    {
      "cell_type": "markdown",
      "metadata": {
        "id": "view-in-github",
        "colab_type": "text"
      },
      "source": [
        "<a href=\"https://colab.research.google.com/github/Domineice/Bigdata-class/blob/main/Intro_to_Spark.ipynb\" target=\"_parent\"><img src=\"https://colab.research.google.com/assets/colab-badge.svg\" alt=\"Open In Colab\"/></a>"
      ]
    },
    {
      "cell_type": "code",
      "source": [
        "# Installing required packages\n",
        "!pip install pyspark\n",
        "!pip install findspark"
      ],
      "metadata": {
        "colab": {
          "base_uri": "https://localhost:8080/"
        },
        "id": "x0LntRdVcwma",
        "outputId": "5b500b5e-e5f8-45ba-981f-ce6023f60831"
      },
      "execution_count": null,
      "outputs": [
        {
          "output_type": "stream",
          "name": "stdout",
          "text": [
            "Collecting pyspark\n",
            "  Downloading pyspark-3.2.1.tar.gz (281.4 MB)\n",
            "\u001b[K     |████████████████████████████████| 281.4 MB 29 kB/s \n",
            "\u001b[?25hCollecting py4j==0.10.9.3\n",
            "  Downloading py4j-0.10.9.3-py2.py3-none-any.whl (198 kB)\n",
            "\u001b[K     |████████████████████████████████| 198 kB 33.4 MB/s \n",
            "\u001b[?25hBuilding wheels for collected packages: pyspark\n",
            "  Building wheel for pyspark (setup.py) ... \u001b[?25l\u001b[?25hdone\n",
            "  Created wheel for pyspark: filename=pyspark-3.2.1-py2.py3-none-any.whl size=281853642 sha256=11a265852111d94a18995d204d9d5ccb3291569950921d4e3425898548abd580\n",
            "  Stored in directory: /root/.cache/pip/wheels/9f/f5/07/7cd8017084dce4e93e84e92efd1e1d5334db05f2e83bcef74f\n",
            "Successfully built pyspark\n",
            "Installing collected packages: py4j, pyspark\n",
            "Successfully installed py4j-0.10.9.3 pyspark-3.2.1\n",
            "Collecting findspark\n",
            "  Downloading findspark-2.0.1-py2.py3-none-any.whl (4.4 kB)\n",
            "Installing collected packages: findspark\n",
            "Successfully installed findspark-2.0.1\n"
          ]
        }
      ]
    },
    {
      "cell_type": "code",
      "execution_count": null,
      "metadata": {
        "collapsed": true,
        "id": "g1uVDyimcRJa"
      },
      "outputs": [],
      "source": [
        "from pyspark import SparkContext,SparkConf\n",
        "\n",
        "sc = SparkContext()"
      ]
    },
    {
      "cell_type": "code",
      "execution_count": null,
      "metadata": {
        "id": "UfQ1z7xWH8hp"
      },
      "outputs": [],
      "source": [
        "\n",
        "data =[\"I love Cats\",\"I hate Bees\",\"dOgs are friendly\",\"FISH is swimming\",\"pin is in the sea\"]\n",
        "raw = sc.parallelize(data,3)"
      ]
    },
    {
      "cell_type": "code",
      "source": [
        "data=[1,2,3,4,5]"
      ],
      "metadata": {
        "id": "dbP5DBVOtMgI"
      },
      "execution_count": null,
      "outputs": []
    },
    {
      "cell_type": "code",
      "source": [
        "distdata=sc.parallelize(data,3)"
      ],
      "metadata": {
        "id": "Hs5Suaj_tO4J"
      },
      "execution_count": null,
      "outputs": []
    },
    {
      "cell_type": "code",
      "source": [
        "type(distdata)"
      ],
      "metadata": {
        "id": "-dYUXv0FIcTQ",
        "outputId": "04347070-31b2-4272-85fc-ac47ebc500e6",
        "colab": {
          "base_uri": "https://localhost:8080/"
        }
      },
      "execution_count": null,
      "outputs": [
        {
          "output_type": "execute_result",
          "data": {
            "text/plain": [
              "pyspark.rdd.RDD"
            ]
          },
          "metadata": {},
          "execution_count": 52
        }
      ]
    },
    {
      "cell_type": "code",
      "source": [
        "print(distdata.glom().collect())"
      ],
      "metadata": {
        "colab": {
          "base_uri": "https://localhost:8080/"
        },
        "id": "ys2DuhbntZ1r",
        "outputId": "76532538-c789-49b9-b96b-23ac09ab2321"
      },
      "execution_count": null,
      "outputs": [
        {
          "output_type": "stream",
          "name": "stdout",
          "text": [
            "[[1], [2, 3], [4, 5]]\n"
          ]
        }
      ]
    },
    {
      "cell_type": "code",
      "source": [
        "def add(x):\n",
        "  return x+1"
      ],
      "metadata": {
        "id": "d8Kwt6mFtecw"
      },
      "execution_count": null,
      "outputs": []
    },
    {
      "cell_type": "code",
      "source": [
        "distdata1=distdata.map(add)"
      ],
      "metadata": {
        "id": "Bd_2WbhPtyUA"
      },
      "execution_count": null,
      "outputs": []
    },
    {
      "cell_type": "code",
      "source": [
        "print(distdata1.glom().collect())"
      ],
      "metadata": {
        "colab": {
          "base_uri": "https://localhost:8080/"
        },
        "id": "k_tRdl0guBka",
        "outputId": "fc6b7d84-ecbe-4922-89a2-cbd1a7c6faff"
      },
      "execution_count": null,
      "outputs": [
        {
          "output_type": "stream",
          "name": "stdout",
          "text": [
            "[[2], [3, 4], [5, 6]]\n"
          ]
        }
      ]
    },
    {
      "cell_type": "code",
      "source": [
        "distdata2=distdata.map(lambda x : x+2)"
      ],
      "metadata": {
        "id": "bbw7QK6puq1g"
      },
      "execution_count": null,
      "outputs": []
    },
    {
      "cell_type": "code",
      "source": [
        "print(distdata2.glom().collect())"
      ],
      "metadata": {
        "colab": {
          "base_uri": "https://localhost:8080/"
        },
        "id": "AQ5Sgle3u1Mv",
        "outputId": "bff39fdd-76e9-4c26-efe7-aacc31ef9490"
      },
      "execution_count": null,
      "outputs": [
        {
          "output_type": "stream",
          "name": "stdout",
          "text": [
            "[[3], [4, 5], [6, 7]]\n"
          ]
        }
      ]
    },
    {
      "cell_type": "code",
      "execution_count": null,
      "metadata": {
        "colab": {
          "base_uri": "https://localhost:8080/"
        },
        "id": "Wv6HvLg2cRJa",
        "outputId": "86d45637-b72c-4c3c-99a6-54b79c350435"
      },
      "outputs": [
        {
          "output_type": "execute_result",
          "data": {
            "text/plain": [
              "3"
            ]
          },
          "metadata": {},
          "execution_count": 25
        }
      ],
      "source": [
        "raw.getNumPartitions()"
      ]
    },
    {
      "cell_type": "code",
      "execution_count": null,
      "metadata": {
        "colab": {
          "base_uri": "https://localhost:8080/"
        },
        "id": "fakQ6xj7cRJb",
        "outputId": "5163b4de-56d9-4fee-e99a-f34a9e53fbc3"
      },
      "outputs": [
        {
          "output_type": "stream",
          "name": "stdout",
          "text": [
            "[['I love Cats'], ['I hate Bees', 'dOgs are friendly'], ['FISH is swimming', 'pin is in the sea']]\n"
          ]
        }
      ],
      "source": [
        "print(raw.glom().collect())"
      ]
    },
    {
      "cell_type": "code",
      "execution_count": null,
      "metadata": {
        "collapsed": true,
        "id": "Qu28fWc7HRCA"
      },
      "outputs": [],
      "source": [
        "def lower(line): \n",
        "  return line.lower()"
      ]
    },
    {
      "cell_type": "code",
      "execution_count": null,
      "metadata": {
        "collapsed": true,
        "id": "jNd8H8yLtGfd"
      },
      "outputs": [],
      "source": [
        "lower_text_RDD=raw.map(lower)"
      ]
    },
    {
      "cell_type": "code",
      "execution_count": null,
      "metadata": {
        "colab": {
          "base_uri": "https://localhost:8080/"
        },
        "id": "-WuhCDXUKv1X",
        "outputId": "46db6805-7ab8-4efa-db39-513844c60ca2"
      },
      "outputs": [
        {
          "output_type": "stream",
          "name": "stdout",
          "text": [
            "[['i love cats'], ['i hate bees', 'dogs are friendly'], ['fish is swimming', 'pin is in the sea']]\n"
          ]
        }
      ],
      "source": [
        "print(lower_text_RDD.glom().collect())\n"
      ]
    },
    {
      "cell_type": "code",
      "execution_count": null,
      "metadata": {
        "collapsed": true,
        "id": "jOxxuqzXMIgb"
      },
      "outputs": [],
      "source": [
        "word_RDD = lower_text_RDD.flatMap(lambda line : line.split(\" \"))"
      ]
    },
    {
      "cell_type": "code",
      "execution_count": null,
      "metadata": {
        "colab": {
          "base_uri": "https://localhost:8080/"
        },
        "id": "F_vnCNeBOPgS",
        "outputId": "e0021f4b-324c-4319-8163-03ba8d342fd4"
      },
      "outputs": [
        {
          "output_type": "stream",
          "name": "stdout",
          "text": [
            "[['i', 'love', 'cats'], ['i', 'hate', 'bees', 'dogs', 'are', 'friendly'], ['fish', 'is', 'swimming', 'pin', 'is', 'in', 'the', 'sea']]\n"
          ]
        }
      ],
      "source": [
        "print(word_RDD.glom().collect())"
      ]
    },
    {
      "cell_type": "code",
      "source": [
        "#noflat\n",
        "#[[['i', 'love', 'cats']], [['i', 'hate', 'bees'], ['dogs', 'are', 'friendly']], [['fish', 'is', 'swimming'], ['pin', 'is', 'in', 'the', 'sea']]]"
      ],
      "metadata": {
        "id": "t4LF865K9E8J"
      },
      "execution_count": null,
      "outputs": []
    },
    {
      "cell_type": "code",
      "execution_count": null,
      "metadata": {
        "colab": {
          "base_uri": "https://localhost:8080/"
        },
        "id": "NO8GJVJVRcJ3",
        "outputId": "b12eb3c9-fa7e-4ef9-850c-b5e176090caf"
      },
      "outputs": [
        {
          "output_type": "stream",
          "name": "stdout",
          "text": [
            "[[('i', 1), ('l', 1), ('c', 1)], [('i', 1), ('h', 1), ('b', 1), ('d', 1), ('a', 1), ('f', 1)], [('f', 1), ('i', 1), ('s', 1), ('p', 1), ('i', 1), ('i', 1), ('t', 1), ('s', 1)]]\n"
          ]
        }
      ],
      "source": [
        "#def first(line): \n",
        " # return line[0]\n",
        "first_RDD=word_RDD.map(lambda word : (word[0], 1))\n",
        "print(first_RDD.glom().collect())\n"
      ]
    },
    {
      "cell_type": "code",
      "source": [
        "def starts_with_i(word):\n",
        "   return word.startswith(\"i\") \n",
        "\n",
        "wordi_RDD=word_RDD.filter(starts_with_i).collect()"
      ],
      "metadata": {
        "id": "_qCm3b9ketxA"
      },
      "execution_count": null,
      "outputs": []
    },
    {
      "cell_type": "code",
      "source": [
        "print(wordi_RDD)"
      ],
      "metadata": {
        "colab": {
          "base_uri": "https://localhost:8080/"
        },
        "id": "Qy5zXK26DV1A",
        "outputId": "f54c6eed-6ed5-42b0-830d-84dd03a5f079"
      },
      "execution_count": null,
      "outputs": [
        {
          "output_type": "stream",
          "name": "stdout",
          "text": [
            "['i', 'i', 'is', 'is', 'in']\n"
          ]
        }
      ]
    },
    {
      "cell_type": "code",
      "execution_count": null,
      "metadata": {
        "colab": {
          "base_uri": "https://localhost:8080/"
        },
        "id": "GuiLcRZCSP7Q",
        "outputId": "2edb8a60-62ec-4bcb-d1e0-1a798024e89c"
      },
      "outputs": [
        {
          "output_type": "stream",
          "name": "stdout",
          "text": [
            "[[('l', 1), ('d', 1), ('s', 2), ('t', 1)], [('i', 5), ('h', 1), ('b', 1)], [('c', 1), ('a', 1), ('f', 2), ('p', 1)]]\n"
          ]
        }
      ],
      "source": [
        "sum = first_RDD.reduceByKey(lambda a, b: (a + b))\n",
        "print(sum.glom().collect())\n"
      ]
    },
    {
      "cell_type": "code",
      "execution_count": null,
      "metadata": {
        "colab": {
          "base_uri": "https://localhost:8080/"
        },
        "id": "rv3bT0nzcRJd",
        "outputId": "2a90cf76-9536-49c8-ccb9-a4b7f2a060f3"
      },
      "outputs": [
        {
          "output_type": "stream",
          "name": "stdout",
          "text": [
            "('l', 1)\n",
            "('d', 1)\n",
            "('s', 2)\n",
            "('t', 1)\n",
            "('i', 5)\n",
            "('h', 1)\n",
            "('b', 1)\n",
            "('c', 1)\n",
            "('a', 1)\n",
            "('f', 2)\n",
            "('p', 1)\n"
          ]
        }
      ],
      "source": [
        "for lines in sum.collect():\n",
        "  print(lines)"
      ]
    },
    {
      "cell_type": "code",
      "execution_count": null,
      "metadata": {
        "colab": {
          "base_uri": "https://localhost:8080/"
        },
        "id": "H-4bB9uccRJe",
        "outputId": "d9dc3f9d-cd5b-4e99-9645-f36f012a12cf"
      },
      "outputs": [
        {
          "output_type": "stream",
          "name": "stdout",
          "text": [
            "[[('l', 1), ('d', 1), ('s', 2), ('t', 1)], [('i', 5), ('h', 1), ('b', 1)], [('c', 1), ('a', 1), ('f', 2), ('p', 1)]]\n"
          ]
        }
      ],
      "source": [
        "print(sum.glom().collect())\n",
        "final = sum.coalesce(1).collect()\n"
      ]
    },
    {
      "cell_type": "code",
      "execution_count": null,
      "metadata": {
        "colab": {
          "base_uri": "https://localhost:8080/"
        },
        "id": "jEEzHvxTcRJe",
        "outputId": "cccb524d-44f0-4aa8-9492-c69fec0a801d"
      },
      "outputs": [
        {
          "output_type": "stream",
          "name": "stdout",
          "text": [
            "[('l', 1), ('d', 1), ('s', 2), ('t', 1), ('i', 5), ('h', 1), ('b', 1), ('c', 1), ('a', 1), ('f', 2), ('p', 1)]\n"
          ]
        }
      ],
      "source": [
        "print(final)"
      ]
    },
    {
      "cell_type": "code",
      "source": [
        "type(final)"
      ],
      "metadata": {
        "colab": {
          "base_uri": "https://localhost:8080/"
        },
        "id": "5q8Hg8tDGt3j",
        "outputId": "a01c54d8-ec16-455f-9c4f-fd500f9206c9"
      },
      "execution_count": null,
      "outputs": [
        {
          "output_type": "execute_result",
          "data": {
            "text/plain": [
              "list"
            ]
          },
          "metadata": {},
          "execution_count": 51
        }
      ]
    },
    {
      "cell_type": "code",
      "execution_count": null,
      "metadata": {
        "colab": {
          "base_uri": "https://localhost:8080/"
        },
        "id": "yu1p7A33W4xJ",
        "outputId": "4606b249-ec6e-433e-e873-0e81a98303a3"
      },
      "outputs": [
        {
          "output_type": "stream",
          "name": "stdout",
          "text": [
            "defaultdict(<class 'int'>, {'i': 5, 'l': 1, 'c': 1, 'h': 1, 'b': 1, 'd': 1, 'a': 1, 'f': 2, 's': 2, 'p': 1, 't': 1})\n"
          ]
        }
      ],
      "source": [
        "counts = first_RDD.countByKey()\n",
        "print(counts)"
      ]
    },
    {
      "cell_type": "code",
      "execution_count": null,
      "metadata": {
        "id": "7zrP3TbaZ7nO",
        "colab": {
          "base_uri": "https://localhost:8080/"
        },
        "outputId": "5b6c476c-ae65-41d9-f246-e26717f65ad9"
      },
      "outputs": [
        {
          "output_type": "stream",
          "name": "stdout",
          "text": [
            "i love cats\n",
            "i hate bees\n",
            "dogs are friendly\n",
            "fish is swimming\n"
          ]
        }
      ],
      "source": [
        "wordsRDD=lower_text_RDD.filter(lambda x: x.startswith(('f','d','i')))\n",
        "col5=wordsRDD.collect()\n",
        "for lines in col5:\n",
        "  print(lines)\n"
      ]
    },
    {
      "cell_type": "code",
      "execution_count": null,
      "metadata": {
        "collapsed": true,
        "id": "umBuvxjGR6aQ",
        "colab": {
          "base_uri": "https://localhost:8080/"
        },
        "outputId": "2c85fb4b-9d28-418a-b4d5-217e5ff812f3"
      },
      "outputs": [
        {
          "output_type": "stream",
          "name": "stdout",
          "text": [
            "[[['i'], ['l', 'o', 'v', 'e'], ['c', 'a', 't', 's']], [['i'], ['h', 'a', 't', 'e'], ['b', 'e', 'e', 's'], ['d', 'o', 'g', 's'], ['a', 'r', 'e'], ['f', 'r', 'i', 'e', 'n', 'd', 'l', 'y']], [['f', 'i', 's', 'h'], ['i', 's'], ['s', 'w', 'i', 'm', 'm', 'i', 'n', 'g'], ['p', 'i', 'n'], ['i', 's'], ['i', 'n'], ['t', 'h', 'e'], ['s', 'e', 'a']]]\n"
          ]
        }
      ],
      "source": [
        "all_RDD=word.map(list)\n",
        "print(all_RDD.glom().collect())"
      ]
    },
    {
      "cell_type": "code",
      "execution_count": null,
      "metadata": {
        "collapsed": true,
        "id": "brk30c9fHznE"
      },
      "outputs": [],
      "source": [
        "sc.stop()"
      ]
    },
    {
      "cell_type": "code",
      "execution_count": null,
      "metadata": {
        "collapsed": true,
        "id": "cd35L_dyH0nz"
      },
      "outputs": [],
      "source": [
        ""
      ]
    }
  ],
  "metadata": {
    "anaconda-cloud": {},
    "colab": {
      "name": "Intro_to_Spark.ipynb",
      "provenance": [],
      "include_colab_link": true
    },
    "kernelspec": {
      "display_name": "Python [default]",
      "language": "python",
      "name": "python3"
    },
    "language_info": {
      "codemirror_mode": {
        "name": "ipython",
        "version": 3
      },
      "file_extension": ".py",
      "mimetype": "text/x-python",
      "name": "python",
      "nbconvert_exporter": "python",
      "pygments_lexer": "ipython3",
      "version": "3.5.2"
    }
  },
  "nbformat": 4,
  "nbformat_minor": 0
}