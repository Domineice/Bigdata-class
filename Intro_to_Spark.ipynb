{
  "cells": [
    {
      "cell_type": "markdown",
      "metadata": {
        "id": "view-in-github",
        "colab_type": "text"
      },
      "source": [
        "<a href=\"https://colab.research.google.com/github/Domineice/Bigdata-class/blob/main/Intro_to_Spark.ipynb\" target=\"_parent\"><img src=\"https://colab.research.google.com/assets/colab-badge.svg\" alt=\"Open In Colab\"/></a>"
      ]
    },
    {
      "cell_type": "code",
      "source": [
        "# Installing required packages\n",
        "!pip install pyspark\n",
        "!pip install findspark"
      ],
      "metadata": {
        "colab": {
          "base_uri": "https://localhost:8080/"
        },
        "id": "R2mbIAB5r2N7",
        "outputId": "ee9ba340-9853-4f6f-de1e-1dc4c48e6e0f"
      },
      "execution_count": null,
      "outputs": [
        {
          "output_type": "stream",
          "name": "stdout",
          "text": [
            "Looking in indexes: https://pypi.org/simple, https://us-python.pkg.dev/colab-wheels/public/simple/\n",
            "Collecting pyspark\n",
            "  Downloading pyspark-3.3.2.tar.gz (281.4 MB)\n",
            "\u001b[2K     \u001b[90m━━━━━━━━━━━━━━━━━━━━━━━━━━━━━━━━━━━━━━━\u001b[0m \u001b[32m281.4/281.4 MB\u001b[0m \u001b[31m3.8 MB/s\u001b[0m eta \u001b[36m0:00:00\u001b[0m\n",
            "\u001b[?25h"
          ]
        }
      ]
    },
    {
      "cell_type": "code",
      "execution_count": null,
      "metadata": {
        "collapsed": true,
        "id": "8vJBmAqrqzy7"
      },
      "outputs": [],
      "source": [
        "from pyspark import SparkContext,SparkConf\n",
        "sc = SparkContext()\n"
      ]
    },
    {
      "cell_type": "code",
      "source": [
        "data =[1,2,3,4,5]  \n",
        "distData = sc.parallelize(data,3)"
      ],
      "metadata": {
        "id": "ywX5OQ8P6Bvu"
      },
      "execution_count": null,
      "outputs": []
    },
    {
      "cell_type": "code",
      "source": [
        "print(distData.glom().collect())"
      ],
      "metadata": {
        "colab": {
          "base_uri": "https://localhost:8080/"
        },
        "id": "o8QMVqmP6kEO",
        "outputId": "d747f417-984d-47bd-f70e-ba6168e36d4c"
      },
      "execution_count": null,
      "outputs": [
        {
          "output_type": "stream",
          "name": "stdout",
          "text": [
            "[[1], [2, 3], [4, 5]]\n"
          ]
        }
      ]
    },
    {
      "cell_type": "code",
      "source": [
        "def add(x): \n",
        "  return x+1"
      ],
      "metadata": {
        "id": "86K9Yx7a7eor"
      },
      "execution_count": null,
      "outputs": []
    },
    {
      "cell_type": "code",
      "source": [
        "type(distData)"
      ],
      "metadata": {
        "colab": {
          "base_uri": "https://localhost:8080/"
        },
        "id": "lMXBaPw08he6",
        "outputId": "e720f05e-c771-49de-d392-44109542cc40"
      },
      "execution_count": null,
      "outputs": [
        {
          "output_type": "execute_result",
          "data": {
            "text/plain": [
              "pyspark.rdd.RDD"
            ]
          },
          "metadata": {},
          "execution_count": 17
        }
      ]
    },
    {
      "cell_type": "code",
      "source": [
        "distData_1=distData.map(add)"
      ],
      "metadata": {
        "id": "hzne4rgs8Ozr"
      },
      "execution_count": null,
      "outputs": []
    },
    {
      "cell_type": "code",
      "source": [
        "print(distData_1.glom().collect())"
      ],
      "metadata": {
        "colab": {
          "base_uri": "https://localhost:8080/"
        },
        "id": "jZzD1Ekp8O2U",
        "outputId": "a93b43b9-9157-4eb6-e4ee-17d33aa734ef"
      },
      "execution_count": null,
      "outputs": [
        {
          "output_type": "stream",
          "name": "stdout",
          "text": [
            "[[2], [3, 4], [5, 6]]\n"
          ]
        }
      ]
    },
    {
      "cell_type": "code",
      "source": [
        "distData_2=distData_1.map(lambda x : x+1 )"
      ],
      "metadata": {
        "id": "t5faC8my8O4w"
      },
      "execution_count": null,
      "outputs": []
    },
    {
      "cell_type": "code",
      "source": [
        "print(distData_2.glom().collect())"
      ],
      "metadata": {
        "colab": {
          "base_uri": "https://localhost:8080/"
        },
        "id": "UOanWjxD8PBY",
        "outputId": "afa625b2-63cb-4e8e-bbf9-fbb457d498e1"
      },
      "execution_count": null,
      "outputs": [
        {
          "output_type": "stream",
          "name": "stdout",
          "text": [
            "[[3], [4, 5], [6, 7]]\n"
          ]
        }
      ]
    },
    {
      "cell_type": "code",
      "source": [
        "print(distData_2.collect())"
      ],
      "metadata": {
        "colab": {
          "base_uri": "https://localhost:8080/"
        },
        "id": "bJDz0i5I_AwY",
        "outputId": "50593cb7-73e9-4767-ac6e-4930f7b4dbc5"
      },
      "execution_count": null,
      "outputs": [
        {
          "output_type": "stream",
          "name": "stdout",
          "text": [
            "[3, 4, 5, 6, 7]\n"
          ]
        }
      ]
    },
    {
      "cell_type": "code",
      "source": [
        "sc.stop()"
      ],
      "metadata": {
        "id": "LEhwUfjV_Hs0"
      },
      "execution_count": null,
      "outputs": []
    },
    {
      "cell_type": "code",
      "source": [
        "sc = SparkContext()\n"
      ],
      "metadata": {
        "id": "p2vLkMVjcile"
      },
      "execution_count": null,
      "outputs": []
    },
    {
      "cell_type": "code",
      "source": [
        "\n",
        "data =[\"I love Cats\",\"I hate Bees\",\"dOgs are friendly\",\"FISH is swimming\",\"pin is in the sea\"]\n",
        "raw = sc.parallelize(data,3)"
      ],
      "metadata": {
        "id": "UfQ1z7xWH8hp"
      },
      "execution_count": null,
      "outputs": []
    },
    {
      "cell_type": "code",
      "source": [
        "raw.getNumPartitions()"
      ],
      "metadata": {
        "colab": {
          "base_uri": "https://localhost:8080/"
        },
        "id": "gKdkT8E3Ao8y",
        "outputId": "7d155bc5-72be-41aa-f210-f49aab4c5c55"
      },
      "execution_count": null,
      "outputs": [
        {
          "output_type": "execute_result",
          "data": {
            "text/plain": [
              "3"
            ]
          },
          "metadata": {},
          "execution_count": 7
        }
      ]
    },
    {
      "cell_type": "code",
      "source": [
        "print(raw.glom().collect())"
      ],
      "metadata": {
        "id": "clKdS-yD5b0i",
        "colab": {
          "base_uri": "https://localhost:8080/"
        },
        "outputId": "7c2ebc91-fb3c-41b6-e746-19d3d1e5511e"
      },
      "execution_count": null,
      "outputs": [
        {
          "output_type": "stream",
          "name": "stdout",
          "text": [
            "[['I love Cats'], ['I hate Bees', 'dOgs are friendly'], ['FISH is swimming', 'pin is in the sea']]\n"
          ]
        }
      ]
    },
    {
      "cell_type": "code",
      "source": [
        "def lower(line): \n",
        "  return line.lower()"
      ],
      "metadata": {
        "id": "Qu28fWc7HRCA"
      },
      "execution_count": null,
      "outputs": []
    },
    {
      "cell_type": "code",
      "source": [
        "lower_text_RDD=raw.map(lower)"
      ],
      "metadata": {
        "id": "jNd8H8yLtGfd"
      },
      "execution_count": null,
      "outputs": []
    },
    {
      "cell_type": "code",
      "source": [
        "dataColl=lower_text_RDD.collect()\n",
        "for lines in dataColl:\n",
        "  print(lines)\n"
      ],
      "metadata": {
        "colab": {
          "base_uri": "https://localhost:8080/"
        },
        "id": "-WuhCDXUKv1X",
        "outputId": "c6ccad90-a36c-455b-8003-401de99d887b"
      },
      "execution_count": null,
      "outputs": [
        {
          "output_type": "stream",
          "name": "stdout",
          "text": [
            "i love cats\n",
            "i hate bees\n",
            "dogs are friendly\n",
            "fish is swimming\n",
            "pin is in the sea\n"
          ]
        }
      ]
    },
    {
      "cell_type": "code",
      "source": [
        "print(lower_text_RDD.glom().collect())"
      ],
      "metadata": {
        "colab": {
          "base_uri": "https://localhost:8080/"
        },
        "id": "hedhyDk6BCdK",
        "outputId": "3f48c2aa-ff08-4aa4-c840-eff26a724c50"
      },
      "execution_count": null,
      "outputs": [
        {
          "output_type": "stream",
          "name": "stdout",
          "text": [
            "[['i love cats'], ['i hate bees', 'dogs are friendly'], ['fish is swimming', 'pin is in the sea']]\n"
          ]
        }
      ]
    },
    {
      "cell_type": "code",
      "source": [
        "word_RDD = lower_text_RDD.flatMap(lambda line : line.split(\" \"))"
      ],
      "metadata": {
        "id": "jOxxuqzXMIgb"
      },
      "execution_count": null,
      "outputs": []
    },
    {
      "cell_type": "code",
      "source": [
        "print(word_RDD.glom().collect())"
      ],
      "metadata": {
        "colab": {
          "base_uri": "https://localhost:8080/"
        },
        "id": "E7YI7Xn8BlCH",
        "outputId": "381dddaa-e0d4-4afe-cdf5-5e39dece6547"
      },
      "execution_count": null,
      "outputs": [
        {
          "output_type": "stream",
          "name": "stdout",
          "text": [
            "[['i', 'love', 'cats'], ['i', 'hate', 'bees', 'dogs', 'are', 'friendly'], ['fish', 'is', 'swimming', 'pin', 'is', 'in', 'the', 'sea']]\n"
          ]
        }
      ]
    },
    {
      "cell_type": "code",
      "source": [
        "col2=word_RDD.collect()\n",
        "for lines in col2:\n",
        "  print(lines)\n"
      ],
      "metadata": {
        "colab": {
          "base_uri": "https://localhost:8080/"
        },
        "id": "F_vnCNeBOPgS",
        "outputId": "0ff560a7-9a47-45ce-c98c-b91ab28fe779"
      },
      "execution_count": null,
      "outputs": [
        {
          "output_type": "stream",
          "name": "stdout",
          "text": [
            "i\n",
            "love\n",
            "cats\n",
            "i\n",
            "hate\n",
            "bees\n",
            "dogs\n",
            "are\n",
            "friendly\n",
            "fish\n",
            "is\n",
            "swimming\n",
            "pin\n",
            "is\n",
            "in\n",
            "the\n",
            "sea\n"
          ]
        }
      ]
    },
    {
      "cell_type": "code",
      "source": [
        "#def first(line): \n",
        " # return line[0]\n",
        "first_RDD=word_RDD.map(lambda word : (word[0], 1))\n",
        "col3=first_RDD.collect()\n",
        "for lines in col3:\n",
        "  print(lines)\n"
      ],
      "metadata": {
        "colab": {
          "base_uri": "https://localhost:8080/"
        },
        "id": "NO8GJVJVRcJ3",
        "outputId": "e7b080f6-d167-43fd-cbaf-78a2e0e68445"
      },
      "execution_count": null,
      "outputs": [
        {
          "output_type": "stream",
          "name": "stdout",
          "text": [
            "('i', 1)\n",
            "('l', 1)\n",
            "('c', 1)\n",
            "('i', 1)\n",
            "('h', 1)\n",
            "('b', 1)\n",
            "('d', 1)\n",
            "('a', 1)\n",
            "('f', 1)\n",
            "('f', 1)\n",
            "('i', 1)\n",
            "('s', 1)\n",
            "('p', 1)\n",
            "('i', 1)\n",
            "('i', 1)\n",
            "('t', 1)\n",
            "('s', 1)\n"
          ]
        }
      ]
    },
    {
      "cell_type": "code",
      "source": [
        "sum = first_RDD.reduceByKey(lambda a, b: (a + b))\n",
        "for lines in sum.collect():\n",
        "  print(lines)"
      ],
      "metadata": {
        "colab": {
          "base_uri": "https://localhost:8080/"
        },
        "id": "GuiLcRZCSP7Q",
        "outputId": "1fef08b0-d199-483d-db72-1de588781f7e"
      },
      "execution_count": null,
      "outputs": [
        {
          "output_type": "stream",
          "name": "stdout",
          "text": [
            "('l', 1)\n",
            "('d', 1)\n",
            "('s', 2)\n",
            "('t', 1)\n",
            "('i', 5)\n",
            "('h', 1)\n",
            "('b', 1)\n",
            "('c', 1)\n",
            "('a', 1)\n",
            "('f', 2)\n",
            "('p', 1)\n"
          ]
        }
      ]
    },
    {
      "cell_type": "code",
      "source": [
        "counts = first_RDD.countByKey()\n",
        "print(counts)"
      ],
      "metadata": {
        "colab": {
          "base_uri": "https://localhost:8080/"
        },
        "id": "yu1p7A33W4xJ",
        "outputId": "fe650672-1eac-44e3-8809-40831e573e83"
      },
      "execution_count": null,
      "outputs": [
        {
          "output_type": "stream",
          "name": "stdout",
          "text": [
            "defaultdict(<class 'int'>, {'i': 5, 'l': 1, 'c': 1, 'h': 1, 'b': 1, 'd': 1, 'a': 1, 'f': 2, 's': 2, 'p': 1, 't': 1})\n"
          ]
        }
      ]
    },
    {
      "cell_type": "code",
      "source": [
        "wordsRDD=lower_text_RDD.filter(lambda x: x.startswith(('f','d','i')))\n",
        "col5=wordsRDD.collect()\n",
        "for lines in col5:\n",
        "  print(lines)\n"
      ],
      "metadata": {
        "id": "7zrP3TbaZ7nO",
        "colab": {
          "base_uri": "https://localhost:8080/"
        },
        "outputId": "a9cda433-22c8-4622-a7f4-56f1414c7469"
      },
      "execution_count": null,
      "outputs": [
        {
          "output_type": "stream",
          "name": "stdout",
          "text": [
            "i love cats\n",
            "i hate bees\n",
            "dogs are friendly\n",
            "fish is swimming\n"
          ]
        }
      ]
    },
    {
      "cell_type": "code",
      "source": [],
      "metadata": {
        "id": "umBuvxjGR6aQ"
      },
      "execution_count": null,
      "outputs": []
    },
    {
      "cell_type": "code",
      "source": [
        "sc.stop()"
      ],
      "metadata": {
        "id": "brk30c9fHznE"
      },
      "execution_count": null,
      "outputs": []
    },
    {
      "cell_type": "code",
      "source": [],
      "metadata": {
        "id": "cd35L_dyH0nz"
      },
      "execution_count": null,
      "outputs": []
    }
  ],
  "metadata": {
    "kernelspec": {
      "display_name": "Python 3",
      "language": "python",
      "name": "python3"
    },
    "language_info": {
      "codemirror_mode": {
        "name": "ipython",
        "version": 3
      },
      "file_extension": ".py",
      "mimetype": "text/x-python",
      "name": "python",
      "nbconvert_exporter": "python",
      "pygments_lexer": "ipython3",
      "version": "3.5.1"
    },
    "colab": {
      "provenance": [],
      "include_colab_link": true
    }
  },
  "nbformat": 4,
  "nbformat_minor": 0
}