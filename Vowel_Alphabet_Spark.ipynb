{
  "cells": [
    {
      "cell_type": "markdown",
      "metadata": {
        "id": "view-in-github",
        "colab_type": "text"
      },
      "source": [
        "<a href=\"https://colab.research.google.com/github/Domineice/Bigdata-class/blob/main/Vowel_Alphabet_Spark.ipynb\" target=\"_parent\"><img src=\"https://colab.research.google.com/assets/colab-badge.svg\" alt=\"Open In Colab\"/></a>"
      ]
    },
    {
      "cell_type": "markdown",
      "source": [
        "6213129_posawat_tangon"
      ],
      "metadata": {
        "id": "ReY851hOdg-H"
      }
    },
    {
      "cell_type": "code",
      "execution_count": null,
      "metadata": {
        "colab": {
          "base_uri": "https://localhost:8080/"
        },
        "id": "Cn_lyIqTWsw3",
        "outputId": "934fd244-4051-4765-a8dc-0ab4ce0e50b1"
      },
      "outputs": [
        {
          "output_type": "stream",
          "name": "stdout",
          "text": [
            "Collecting pyspark\n",
            "  Downloading pyspark-3.2.1.tar.gz (281.4 MB)\n",
            "\u001b[K     |████████████████████████████████| 281.4 MB 34 kB/s \n",
            "\u001b[?25hCollecting py4j==0.10.9.3\n",
            "  Downloading py4j-0.10.9.3-py2.py3-none-any.whl (198 kB)\n",
            "\u001b[K     |████████████████████████████████| 198 kB 60.5 MB/s \n",
            "\u001b[?25hBuilding wheels for collected packages: pyspark\n",
            "  Building wheel for pyspark (setup.py) ... \u001b[?25l\u001b[?25hdone\n",
            "  Created wheel for pyspark: filename=pyspark-3.2.1-py2.py3-none-any.whl size=281853642 sha256=ab70eb3bd1c848e52a2af6c2f7f6c4f7644b729af1c038daa3e6ad5ec1f3c2d1\n",
            "  Stored in directory: /root/.cache/pip/wheels/9f/f5/07/7cd8017084dce4e93e84e92efd1e1d5334db05f2e83bcef74f\n",
            "Successfully built pyspark\n",
            "Installing collected packages: py4j, pyspark\n",
            "Successfully installed py4j-0.10.9.3 pyspark-3.2.1\n",
            "Collecting findspark\n",
            "  Downloading findspark-2.0.1-py2.py3-none-any.whl (4.4 kB)\n",
            "Installing collected packages: findspark\n",
            "Successfully installed findspark-2.0.1\n"
          ]
        }
      ],
      "source": [
        "# Installing required packages\n",
        "!pip install pyspark\n",
        "!pip install findspark"
      ]
    },
    {
      "cell_type": "code",
      "execution_count": null,
      "metadata": {
        "id": "p2KnrAL6X1v8"
      },
      "outputs": [],
      "source": [
        "from pyspark import SparkContext, SparkConf\n",
        "from pyspark.sql import SparkSession"
      ]
    },
    {
      "cell_type": "code",
      "execution_count": null,
      "metadata": {
        "id": "e9NXLeC6X39A"
      },
      "outputs": [],
      "source": [
        "sc = SparkContext()\n",
        "\n",
        "# Creating a spark session\n",
        "spark = SparkSession \\\n",
        "    .builder \\\n",
        "    .appName(\"Python Spark DataFrames basic example\") \\\n",
        "    .config(\"spark.some.config.option\", \"some-value\") \\\n",
        "    .getOrCreate()"
      ]
    },
    {
      "cell_type": "code",
      "execution_count": null,
      "metadata": {
        "colab": {
          "base_uri": "https://localhost:8080/"
        },
        "id": "FiSsB1cUZK6_",
        "outputId": "eae36719-cd2a-4879-cd36-4f988a64ca3f"
      },
      "outputs": [
        {
          "output_type": "stream",
          "name": "stdout",
          "text": [
            "Mounted at /content/drive/\n"
          ]
        }
      ],
      "source": [
        "#Set directory\n",
        "from google.colab import drive\n",
        "drive.mount('/content/drive/',force_remount=True)\n",
        "path = '/content/drive/My Drive/bigdata/'"
      ]
    },
    {
      "cell_type": "code",
      "execution_count": null,
      "metadata": {
        "id": "Knsd7oX7ZPMo"
      },
      "outputs": [],
      "source": [
        "lines = sc.textFile(path+\"words.txt\")"
      ]
    },
    {
      "cell_type": "code",
      "execution_count": null,
      "metadata": {
        "id": "KPC7HySYZxsR"
      },
      "outputs": [],
      "source": [
        "count=lines.count()"
      ]
    },
    {
      "cell_type": "code",
      "source": [
        "def delsym(x):\n",
        "  x=x.lower()\n",
        "  dele = '''!()-[]{};:'\"\\,<>./?@#$%^&*_~1234567890+ `=|'''\n",
        "  for cha in x.lower():\n",
        "    if cha in dele:\n",
        "      x=x.replace(cha,\"\")\n",
        "  return x\n"
      ],
      "metadata": {
        "id": "jLz3Lyk7WKoZ"
      },
      "execution_count": null,
      "outputs": []
    },
    {
      "cell_type": "code",
      "source": [
        "def onlyvowel(x):\n",
        "  x=x.lower()\n",
        "  get = '''aeiou'''\n",
        "  for cha in x.lower():\n",
        "    if not cha  in get :\n",
        "      x=x.replace(cha,\"\")\n",
        "  return x"
      ],
      "metadata": {
        "id": "v52asKv6cBbR"
      },
      "execution_count": null,
      "outputs": []
    },
    {
      "cell_type": "code",
      "execution_count": null,
      "metadata": {
        "id": "7zrP3TbaZ7nO"
      },
      "outputs": [],
      "source": [
        "words = lines.flatMap(delsym)"
      ]
    },
    {
      "cell_type": "code",
      "source": [
        "vowel_words = words.flatMap(onlyvowel)"
      ],
      "metadata": {
        "id": "jDx2pnTPcqga"
      },
      "execution_count": null,
      "outputs": []
    },
    {
      "cell_type": "code",
      "execution_count": null,
      "metadata": {
        "id": "8vG-OTajZ-n3"
      },
      "outputs": [],
      "source": [
        "alpha_tuples = words.map(lambda alpha : (alpha, 1))\n",
        "vowel_tuples = vowel_words.map(lambda alpha : (alpha, 1))\n",
        "\n",
        "#for lines in tuples.collect():\n",
        "#  print(lines)"
      ]
    },
    {
      "cell_type": "code",
      "execution_count": null,
      "metadata": {
        "id": "ITcvEMwEaAb-"
      },
      "outputs": [],
      "source": [
        "alpha_counts = alpha_tuples.reduceByKey(lambda a, b: (a + b))\n",
        "vowel_counts = vowel_tuples.reduceByKey(lambda a, b: (a + b))"
      ]
    },
    {
      "cell_type": "code",
      "source": [
        "print(alpha_counts.collect())"
      ],
      "metadata": {
        "colab": {
          "base_uri": "https://localhost:8080/"
        },
        "id": "PdrtatqwXhSb",
        "outputId": "676f6ebb-b3cf-4b5f-f72f-8a12a0c6179d"
      },
      "execution_count": null,
      "outputs": [
        {
          "output_type": "stream",
          "name": "stdout",
          "text": [
            "[('h', 236868), ('i', 253990), ('s', 248989), ('l', 170019), ('p', 58464), ('r', 237864), ('d', 149462), ('b', 61956), ('y', 94370), ('j', 4779), ('c', 88185), ('g', 68199), ('t', 329775), ('e', 447204), ('x', 5294), ('f', 80516), ('n', 243262), ('o', 314600), ('u', 128947), ('a', 289150), ('w', 89390), ('m', 111452), ('k', 35408), ('v', 37569), ('z', 1631), ('q', 3582)]\n"
          ]
        }
      ]
    },
    {
      "cell_type": "code",
      "source": [
        "print(vowel_counts.collect())"
      ],
      "metadata": {
        "colab": {
          "base_uri": "https://localhost:8080/"
        },
        "id": "mOHuYQkHbSqb",
        "outputId": "1b086348-2071-43e4-c64d-4c983a7e7e3a"
      },
      "execution_count": null,
      "outputs": [
        {
          "output_type": "stream",
          "name": "stdout",
          "text": [
            "[('i', 253990), ('e', 447204), ('o', 314600), ('u', 128947), ('a', 289150)]\n"
          ]
        }
      ]
    },
    {
      "cell_type": "code",
      "execution_count": null,
      "metadata": {
        "id": "JxQWAp5YaCbD"
      },
      "outputs": [],
      "source": [
        "alpha_counts.coalesce(1).saveAsTextFile(path+'alphabet')"
      ]
    },
    {
      "cell_type": "code",
      "source": [
        "vowel_counts.coalesce(1).saveAsTextFile(path+'vowel')"
      ],
      "metadata": {
        "id": "0OM4cn-FdS_J"
      },
      "execution_count": null,
      "outputs": []
    },
    {
      "cell_type": "code",
      "source": [
        ""
      ],
      "metadata": {
        "id": "JpPNVO2cddSo"
      },
      "execution_count": null,
      "outputs": []
    }
  ],
  "metadata": {
    "colab": {
      "name": "Vowel_Alphabet_Spark.ipynb",
      "provenance": [],
      "include_colab_link": true
    },
    "kernelspec": {
      "display_name": "Python 3",
      "language": "python",
      "name": "python3"
    },
    "language_info": {
      "codemirror_mode": {
        "name": "ipython",
        "version": 3
      },
      "file_extension": ".py",
      "mimetype": "text/x-python",
      "name": "python",
      "nbconvert_exporter": "python",
      "pygments_lexer": "ipython3",
      "version": "3.7.9"
    }
  },
  "nbformat": 4,
  "nbformat_minor": 0
}